{
 "cells": [
  {
   "cell_type": "code",
   "execution_count": 3,
   "id": "0f31cc4b",
   "metadata": {},
   "outputs": [],
   "source": [
    "from first import FirstAPI\n",
    "import pandas as pd\n",
    "import json\n",
    "from datetime import datetime, date\n",
    "from dateutil.parser import parse\n",
    "import hashlib\n",
    "from process.track import process_track_data\n",
    "from process.fixture_pull import process_fixture_from_pull\n",
    "from process.fixture_push import process_fixture_from_push\n",
    "\n",
    "from utils.logger import logger_1st\n",
    "import traceback\n",
    "from database.general import session_scope, FirstTrack, FirstFixture, FirstRace, FirstEntry, MapCourse, MapMeeting, MapRace, MapRunner\n",
    "\n",
    "first_api = FirstAPI()\n",
    "\n"
   ]
  },
  {
   "cell_type": "code",
   "execution_count": null,
   "id": "19c2ad0f",
   "metadata": {},
   "outputs": [],
   "source": [
    "# map these tracks\n",
    "\n",
    "# # get all the tracks\n",
    "# tracks = []\n",
    "# with session_scope() as session:\n",
    "#     result = session.query(FirstTrack).all()\n",
    "#     for track in result:\n",
    "#         tracks.append({\n",
    "#             'track_id': track.track_id,\n",
    "#             'track_name': track.track_name,\n",
    "#             'country_name': track.country_name,\n",
    "#         })\n",
    "\n",
    "# # find the map_course_code\n",
    "# for track in tracks:\n",
    "#     with session_scope() as session:\n",
    "#         result = session.query(MapCourse).filter(\n",
    "#             MapCourse.full_name == track['track_name'],\n",
    "#             MapCourse.country_code == track['country_name'],\n",
    "#             ).first()\n",
    "#         if result:\n",
    "#             track['map_course_code'] = result.code\n",
    "#         else:\n",
    "#             track['map_course_code'] = None\n",
    "\n",
    "\n",
    "# # upload the FirstTrack table\n",
    "# for track in tracks:\n",
    "#     if track['map_course_code'] is not None:\n",
    "#         with session_scope() as session:\n",
    "#             existing_track = session.query(FirstTrack).filter(FirstTrack.track_id == track['track_id']).first()\n",
    "#             if existing_track:\n",
    "#                 existing_track.tpd_course_id = track['map_course_code']\n",
    "\n"
   ]
  },
  {
   "cell_type": "code",
   "execution_count": null,
   "id": "92ba3ec7",
   "metadata": {},
   "outputs": [],
   "source": [
    "# def get_tpd_meeting_id(track_id :str, fixture_date :date) -> int:\n",
    "#     tpd_meeting_id = None\n",
    "#     try:\n",
    "#         track_id = str(track_id).strip()\n",
    "#         track_id = None if track_id == '' else track_id\n",
    "#         if track_id is not None and fixture_date is not None:\n",
    "#             # get the tpd_course_id from the FirstTrack table\n",
    "#             with session_scope() as session:\n",
    "#                 result = session.query(FirstTrack.tpd_course_id).filter(FirstTrack.track_id == track_id).first()\n",
    "#                 if result:\n",
    "#                     tpd_course_id = result.tpd_course_id\n",
    "#                 else:\n",
    "#                     tpd_course_id = None\n",
    "#                     logger_1st.error(f'get_tpd_meeting_id(): track_id: {track_id} not found in first_track table')\n",
    "\n",
    "#             if tpd_course_id is not None:\n",
    "#                 # get the tpd_meeting_id from the MapMeeting table\n",
    "#                 with session_scope() as session:\n",
    "#                     existing_meeting = session.query(MapMeeting.id).filter(\n",
    "#                         MapMeeting.map_course_code == tpd_course_id, \n",
    "#                         MapMeeting.date == fixture_date).first()\n",
    "#                     if existing_meeting:\n",
    "#                         tpd_meeting_id = existing_meeting.id\n",
    "#                     else:\n",
    "#                         # create a new meeting\n",
    "#                         new_meeting = MapMeeting(\n",
    "#                             map_course_code = tpd_course_id,\n",
    "#                             date = fixture_date,\n",
    "#                         )\n",
    "#                         session.add(new_meeting)\n",
    "#                         session.flush()\n",
    "#                         tpd_meeting_id = new_meeting.id\n",
    "#             else:\n",
    "#                 logger_1st.error(f'get_tpd_meeting_id(): track_id: {track_id} is not mapped')\n",
    "#         else:\n",
    "#             logger_1st.error(f'get_tpd_meeting_id(): track_id: {track_id}, fixture_date: {fixture_date} is not valid')\n",
    "\n",
    "#     except Exception as e:\n",
    "#         logger_1st.error(f'get_tpd_meeting_id(): track_id: {track_id}, fixture_date: {fixture_date}')\n",
    "#         logger_1st.error(traceback.format_exc())\n",
    "#     return tpd_meeting_id"
   ]
  },
  {
   "cell_type": "code",
   "execution_count": null,
   "id": "1967d14d",
   "metadata": {},
   "outputs": [],
   "source": [
    "# def get_tpd_race_id(tpd_meeting_id :int, race_number :int, post_time :datetime) -> int:\n",
    "#     tpd_race_id = None\n",
    "#     try:\n",
    "#         if tpd_meeting_id is not None and race_number is not None and post_time is not None:\n",
    "#             with session_scope() as session:\n",
    "#                 existing_race = session.query(MapRace.id).filter(\n",
    "#                     MapRace.map_meeting_id == tpd_meeting_id,\n",
    "#                     MapRace.race_number == race_number).first()\n",
    "#                 if existing_race:\n",
    "#                     tpd_race_id = existing_race.id\n",
    "#                 else:\n",
    "#                     new_race = MapRace(\n",
    "#                         map_meeting_id = tpd_meeting_id,\n",
    "#                         race_number = race_number,\n",
    "#                         post_time = post_time,\n",
    "#                     )\n",
    "#                     session.add(new_race)\n",
    "#                     session.flush()\n",
    "#                     tpd_race_id = new_race.id\n",
    "#         else:\n",
    "#             logger_1st.error(f'get_tpd_race_id(): tpd_meeting_id: {tpd_meeting_id}, race_number: {race_number}, post_time: {post_time} is not valid')\n",
    "\n",
    "#     except Exception as e:\n",
    "#         logger_1st.error(f'get_tpd_race_id(): tpd_meeting_id: {tpd_meeting_id}, race_number: {race_number}, post_time: {post_time}')\n",
    "#         logger_1st.error(traceback.format_exc())\n",
    "#     return tpd_race_id"
   ]
  },
  {
   "cell_type": "code",
   "execution_count": null,
   "id": "89194c47",
   "metadata": {},
   "outputs": [],
   "source": [
    "# def get_tpd_runner_id(tpd_race_id :int, program_number :str) -> int:\n",
    "#     tpd_runner_id = None\n",
    "#     try:\n",
    "#         program_number = str(program_number).strip() if program_number is not None else None\n",
    "#         program_number = None if program_number == '' else program_number\n",
    "#         if tpd_race_id is not None and program_number is not None:\n",
    "#             with session_scope() as session:\n",
    "#                 existing_runner = session.query(MapRunner.id).filter(\n",
    "#                     MapRunner.map_race_id == tpd_race_id,\n",
    "#                     MapRunner.runner_number == program_number).first()\n",
    "#                 if existing_runner:\n",
    "#                     tpd_runner_id = existing_runner.id\n",
    "#                 else:\n",
    "#                     new_runner = MapRunner(\n",
    "#                         map_race_id = tpd_race_id,\n",
    "#                         runner_number = program_number,\n",
    "#                     )\n",
    "#                     session.add(new_runner)\n",
    "#                     session.flush()\n",
    "#                     tpd_runner_id = new_runner.id\n",
    "#         else:\n",
    "#             logger_1st.error(f'get_tpd_runner_id(): tpd_race_id: {tpd_race_id}, program_number: {program_number} is not valid')\n",
    "#     except Exception as e:\n",
    "#         logger_1st.error(f'get_tpd_runner_id(): tpd_race_id: {tpd_race_id}, program_number: {program_number}')\n",
    "#         logger_1st.error(traceback.format_exc())\n",
    "#     return tpd_runner_id"
   ]
  },
  {
   "cell_type": "code",
   "execution_count": null,
   "id": "5b2c492f",
   "metadata": {},
   "outputs": [],
   "source": []
  },
  {
   "cell_type": "code",
   "execution_count": null,
   "id": "b6243b4c",
   "metadata": {},
   "outputs": [],
   "source": []
  },
  {
   "cell_type": "code",
   "execution_count": null,
   "id": "6e751211",
   "metadata": {},
   "outputs": [],
   "source": []
  },
  {
   "cell_type": "code",
   "execution_count": null,
   "id": "523ba345",
   "metadata": {},
   "outputs": [],
   "source": [
    "fixture_result = process_fixture_data(fixture_data)\n",
    "fixtures = fixture_result['fixtures']\n",
    "jockey_dict = fixture_result['jockey_dict']\n",
    "trainer_dict = fixture_result['trainer_dict']\n",
    "owner_dict = fixture_result['owner_dict']\n"
   ]
  },
  {
   "cell_type": "code",
   "execution_count": 4,
   "id": "7bb45dfc",
   "metadata": {},
   "outputs": [
    {
     "data": {
      "text/plain": [
       "dict_keys(['59686', '57500', '146907', '164275', '146019', '172213', '58428', '151690', '172496', '163837', '173171', '95230', '174583', '162067', '83923', '155327', '124659', '156191', '81998', '160000', '109414', '159654', '172033', '34', '35', '165575', '1799', '162117', '133402', '3050655', '152730', '145057', '157701', '157929', '1175', '85561', '114441', '138717', '82321', '131537', '169358', '126107', '155352', '175685', '170593', '159338', '145572', '745', '134106', '57452', '903', '126315', '171801', '159279', '57770', '171717', '165566', '165827', '167274', '176811', '170203', '167807', '2664984', '131245', '152731', '172431', '176171', '113491', '56966', '159345', '137241', '146460', '149940', '126415', '1524', '108984', '3149828', '2789402', '105973', '124476', '101158', '107720', '174635', '0', '176172', '170371', '173152', '161703', '126417', '145189', '176907', '117699', '1137', '166268', '173136', '171648', '127764', '101342', '173945', '121913', '109036', '102032', '172510', '154538', '152759', '169976', '121307', '163582', '162009', '172497', '171770', '174049', '133647', '157341', '168392', '117753', '156132', '2579', '171494', '16787', '133645', '145991', '122587', '120381', '175240', '107418', '137464', '163144', '2712045', '162997', '160471', '2663497', '162836', '125588', '3168482'])"
      ]
     },
     "execution_count": 4,
     "metadata": {},
     "output_type": "execute_result"
    }
   ],
   "source": [
    "jockey_dict.keys()"
   ]
  },
  {
   "cell_type": "code",
   "execution_count": 18,
   "id": "8a4184d2",
   "metadata": {},
   "outputs": [],
   "source": [
    "for key in jockey_dict.keys():\n",
    "    print(key)"
   ]
  },
  {
   "cell_type": "code",
   "execution_count": null,
   "id": "8780bab0",
   "metadata": {},
   "outputs": [
    {
     "name": "stdout",
     "output_type": "stream",
     "text": [
      "{'jockey_id': '59686', 'jockey_name': 'Luis E. Perez', 'old_jockey_id': '', 'old_jockey_name': ''}\n",
      "{'jockey_id': '146019', 'jockey_name': 'Kevin Navarro', 'old_jockey_id': '', 'old_jockey_name': ''}\n",
      "{'jockey_id': '151690', 'jockey_name': 'Andre Shivnarine Worrie', 'old_jockey_id': '', 'old_jockey_name': ''}\n"
     ]
    }
   ],
   "source": [
    "required_jockeys = ['59686', '146019', '151690']\n",
    "\n",
    "for jockey_id in required_jockeys:\n",
    "    jockey_data = jockey_dict[jockey_id]\n",
    "    print(jockey_data)\n",
    "\n"
   ]
  },
  {
   "cell_type": "code",
   "execution_count": 29,
   "id": "1512b192",
   "metadata": {},
   "outputs": [
    {
     "data": {
      "text/plain": [
       "{'id': '20664570',\n",
       " 'startNumber': '1',\n",
       " 'programNumber': '1',\n",
       " 'startPosition': '1',\n",
       " 'scratch_indicator': '',\n",
       " 'coupledIndicator': 0,\n",
       " 'decoupledNumber': '1',\n",
       " 'horse_id': '1081291',\n",
       " 'name': 'Berning Beauty',\n",
       " 'status': 1,\n",
       " 'birthcountry': 'USA',\n",
       " 'birthday': '2021-01-27',\n",
       " 'age': 4,\n",
       " 'saddleclothcolor': 'Red',\n",
       " 'equipment': {'code': '', 'description': ''},\n",
       " 'medication': {'code': 'L', 'description': 'Lasix'},\n",
       " 'weight': {'value': '124',\n",
       "  'overweight': None,\n",
       "  'unit': 'lbs',\n",
       "  'value_with_allowance': '124'},\n",
       " 'breeder': 'Albert Fried Jr.',\n",
       " 'owner': {'id': '735855',\n",
       "  'name': 'Albert Fried, Jr.',\n",
       "  'silks': 'Scarlet, Gold Ball, Lazy \"F\", Scarlet And Gold Halved Sleeves',\n",
       "  'silksImage': 's110825/20250811xfl180001.png',\n",
       "  'silksImageURL': 'https://silks.1stcontent.com/media/2025/08/11/14a01a170d11b7c881be09be8f363c6d.png'},\n",
       " 'trainer': {'id': '148317', 'name': 'Charlton Baker'},\n",
       " 'jockey': {'id': '59686',\n",
       "  'name': 'Luis E. Perez',\n",
       "  'oldJockeyID': '',\n",
       "  'oldJockeyName': ''},\n",
       " 'apprenticeweight': {'value': '0', 'unit': 'lbs'},\n",
       " 'flatform': '46605415/2235313',\n",
       " 'runnerTip': 'Successful twice at 1m. Third of 9 behind Ice Time beaten 1 3/4l at 3-5fav on his latest outing at Finger Lakes over 1m last month. Should go well.',\n",
       " 'forecastPrice': {'nominator': '5', 'denominator': '2'}}"
      ]
     },
     "execution_count": 29,
     "metadata": {},
     "output_type": "execute_result"
    }
   ],
   "source": [
    "fixture.get('races')[0].get('entries', [])[0]"
   ]
  },
  {
   "cell_type": "code",
   "execution_count": null,
   "id": "1dc111ad",
   "metadata": {},
   "outputs": [
    {
     "name": "stdout",
     "output_type": "stream",
     "text": [
      "dict_keys(['horse_id', 'externalId', 'name', 'gender', 'breed', 'foaling', 'color', 'breeder', 'pedigree', 'raceSummery', 'pastPerfomance', 'workouts'])\n"
     ]
    }
   ],
   "source": [
    "import json\n",
    "from datetime import datetime, date\n",
    "from dateutil.parser import parse\n",
    "\n",
    "\n",
    "# horse_data = first_api.get_horses(horse_id='1081291')\n",
    "\n",
    "with open('/home/gazi/main_dir/data_collection_1st/downloads/sample_horses_1.json', 'r') as f:\n",
    "    horse_data = json.load(f)\n",
    "\n",
    "print(horse_data.keys())\n",
    "\n",
    "\n",
    "# horse_id = Column(VARCHAR(8), primary_key=True)\n",
    "# external_id = Column(VARCHAR(16))\n",
    "# horse_name = Column(VARCHAR(128))\n",
    "# gender = Column(VARCHAR(64))\n",
    "# breed = Column(VARCHAR(64))\n",
    "# foaling_date = Column(Date)\n",
    "# foaling_country = Column(VARCHAR(8))\n",
    "# color = Column(VARCHAR(128))\n",
    "# breeder = Column(Text)\n",
    "# horse_id_sire = Column(VARCHAR(8))\n",
    "# horse_id_dam = Column(VARCHAR(8))\n",
    "# horse_id_sire_dam = Column(VARCHAR(8))\n",
    "# horse_id_sire_sire = Column(VARCHAR(8))\n",
    "# horse_id_dam_sire = Column(VARCHAR(8))\n",
    "# horse_id_dam_dam = Column(VARCHAR(8))\n"
   ]
  },
  {
   "cell_type": "code",
   "execution_count": null,
   "id": "39f95ac6",
   "metadata": {},
   "outputs": [
    {
     "name": "stdout",
     "output_type": "stream",
     "text": [
      "{'horse_id': '735210', 'external_id': '15018853', 'horse_name': 'Take Your Place', 'gender': 'Gelding', 'breed': 'Thoroughbred', 'foaling_date': datetime.date(2015, 4, 22), 'foaling_country': 'USA', 'color': 'bay', 'breeder': 'Murray Stroud', 'horse_id_sire': '5013934', 'horse_id_dam': '8028675', 'horse_id_sire_dam': '96008272', 'horse_id_sire_sire': '99018620', 'horse_id_dam_sire': '93006553', 'horse_id_dam_dam': '3005045'}\n"
     ]
    }
   ],
   "source": [
    "\n",
    "\n",
    "horse = process_horse_data(horse_data)\n",
    "print(horse)\n",
    "\n",
    "\n"
   ]
  },
  {
   "cell_type": "code",
   "execution_count": 11,
   "id": "f7266f0d",
   "metadata": {},
   "outputs": [
    {
     "ename": "ValueError",
     "evalue": "If using all scalar values, you must pass an index",
     "output_type": "error",
     "traceback": [
      "\u001b[31m---------------------------------------------------------------------------\u001b[39m",
      "\u001b[31mValueError\u001b[39m                                Traceback (most recent call last)",
      "\u001b[36mCell\u001b[39m\u001b[36m \u001b[39m\u001b[32mIn[11]\u001b[39m\u001b[32m, line 1\u001b[39m\n\u001b[32m----> \u001b[39m\u001b[32m1\u001b[39m \u001b[43mpd\u001b[49m\u001b[43m.\u001b[49m\u001b[43mDataFrame\u001b[49m\u001b[43m(\u001b[49m\u001b[43mhorse\u001b[49m\u001b[43m)\u001b[49m\n",
      "\u001b[36mFile \u001b[39m\u001b[32m~/main_dir/data_collection_1st/.venv/lib/python3.12/site-packages/pandas/core/frame.py:778\u001b[39m, in \u001b[36mDataFrame.__init__\u001b[39m\u001b[34m(self, data, index, columns, dtype, copy)\u001b[39m\n\u001b[32m    772\u001b[39m     mgr = \u001b[38;5;28mself\u001b[39m._init_mgr(\n\u001b[32m    773\u001b[39m         data, axes={\u001b[33m\"\u001b[39m\u001b[33mindex\u001b[39m\u001b[33m\"\u001b[39m: index, \u001b[33m\"\u001b[39m\u001b[33mcolumns\u001b[39m\u001b[33m\"\u001b[39m: columns}, dtype=dtype, copy=copy\n\u001b[32m    774\u001b[39m     )\n\u001b[32m    776\u001b[39m \u001b[38;5;28;01melif\u001b[39;00m \u001b[38;5;28misinstance\u001b[39m(data, \u001b[38;5;28mdict\u001b[39m):\n\u001b[32m    777\u001b[39m     \u001b[38;5;66;03m# GH#38939 de facto copy defaults to False only in non-dict cases\u001b[39;00m\n\u001b[32m--> \u001b[39m\u001b[32m778\u001b[39m     mgr = \u001b[43mdict_to_mgr\u001b[49m\u001b[43m(\u001b[49m\u001b[43mdata\u001b[49m\u001b[43m,\u001b[49m\u001b[43m \u001b[49m\u001b[43mindex\u001b[49m\u001b[43m,\u001b[49m\u001b[43m \u001b[49m\u001b[43mcolumns\u001b[49m\u001b[43m,\u001b[49m\u001b[43m \u001b[49m\u001b[43mdtype\u001b[49m\u001b[43m=\u001b[49m\u001b[43mdtype\u001b[49m\u001b[43m,\u001b[49m\u001b[43m \u001b[49m\u001b[43mcopy\u001b[49m\u001b[43m=\u001b[49m\u001b[43mcopy\u001b[49m\u001b[43m,\u001b[49m\u001b[43m \u001b[49m\u001b[43mtyp\u001b[49m\u001b[43m=\u001b[49m\u001b[43mmanager\u001b[49m\u001b[43m)\u001b[49m\n\u001b[32m    779\u001b[39m \u001b[38;5;28;01melif\u001b[39;00m \u001b[38;5;28misinstance\u001b[39m(data, ma.MaskedArray):\n\u001b[32m    780\u001b[39m     \u001b[38;5;28;01mfrom\u001b[39;00m\u001b[38;5;250m \u001b[39m\u001b[34;01mnumpy\u001b[39;00m\u001b[34;01m.\u001b[39;00m\u001b[34;01mma\u001b[39;00m\u001b[38;5;250m \u001b[39m\u001b[38;5;28;01mimport\u001b[39;00m mrecords\n",
      "\u001b[36mFile \u001b[39m\u001b[32m~/main_dir/data_collection_1st/.venv/lib/python3.12/site-packages/pandas/core/internals/construction.py:503\u001b[39m, in \u001b[36mdict_to_mgr\u001b[39m\u001b[34m(data, index, columns, dtype, typ, copy)\u001b[39m\n\u001b[32m    499\u001b[39m     \u001b[38;5;28;01melse\u001b[39;00m:\n\u001b[32m    500\u001b[39m         \u001b[38;5;66;03m# dtype check to exclude e.g. range objects, scalars\u001b[39;00m\n\u001b[32m    501\u001b[39m         arrays = [x.copy() \u001b[38;5;28;01mif\u001b[39;00m \u001b[38;5;28mhasattr\u001b[39m(x, \u001b[33m\"\u001b[39m\u001b[33mdtype\u001b[39m\u001b[33m\"\u001b[39m) \u001b[38;5;28;01melse\u001b[39;00m x \u001b[38;5;28;01mfor\u001b[39;00m x \u001b[38;5;129;01min\u001b[39;00m arrays]\n\u001b[32m--> \u001b[39m\u001b[32m503\u001b[39m \u001b[38;5;28;01mreturn\u001b[39;00m \u001b[43marrays_to_mgr\u001b[49m\u001b[43m(\u001b[49m\u001b[43marrays\u001b[49m\u001b[43m,\u001b[49m\u001b[43m \u001b[49m\u001b[43mcolumns\u001b[49m\u001b[43m,\u001b[49m\u001b[43m \u001b[49m\u001b[43mindex\u001b[49m\u001b[43m,\u001b[49m\u001b[43m \u001b[49m\u001b[43mdtype\u001b[49m\u001b[43m=\u001b[49m\u001b[43mdtype\u001b[49m\u001b[43m,\u001b[49m\u001b[43m \u001b[49m\u001b[43mtyp\u001b[49m\u001b[43m=\u001b[49m\u001b[43mtyp\u001b[49m\u001b[43m,\u001b[49m\u001b[43m \u001b[49m\u001b[43mconsolidate\u001b[49m\u001b[43m=\u001b[49m\u001b[43mcopy\u001b[49m\u001b[43m)\u001b[49m\n",
      "\u001b[36mFile \u001b[39m\u001b[32m~/main_dir/data_collection_1st/.venv/lib/python3.12/site-packages/pandas/core/internals/construction.py:114\u001b[39m, in \u001b[36marrays_to_mgr\u001b[39m\u001b[34m(arrays, columns, index, dtype, verify_integrity, typ, consolidate)\u001b[39m\n\u001b[32m    111\u001b[39m \u001b[38;5;28;01mif\u001b[39;00m verify_integrity:\n\u001b[32m    112\u001b[39m     \u001b[38;5;66;03m# figure out the index, if necessary\u001b[39;00m\n\u001b[32m    113\u001b[39m     \u001b[38;5;28;01mif\u001b[39;00m index \u001b[38;5;129;01mis\u001b[39;00m \u001b[38;5;28;01mNone\u001b[39;00m:\n\u001b[32m--> \u001b[39m\u001b[32m114\u001b[39m         index = \u001b[43m_extract_index\u001b[49m\u001b[43m(\u001b[49m\u001b[43marrays\u001b[49m\u001b[43m)\u001b[49m\n\u001b[32m    115\u001b[39m     \u001b[38;5;28;01melse\u001b[39;00m:\n\u001b[32m    116\u001b[39m         index = ensure_index(index)\n",
      "\u001b[36mFile \u001b[39m\u001b[32m~/main_dir/data_collection_1st/.venv/lib/python3.12/site-packages/pandas/core/internals/construction.py:667\u001b[39m, in \u001b[36m_extract_index\u001b[39m\u001b[34m(data)\u001b[39m\n\u001b[32m    664\u001b[39m         \u001b[38;5;28;01mraise\u001b[39;00m \u001b[38;5;167;01mValueError\u001b[39;00m(\u001b[33m\"\u001b[39m\u001b[33mPer-column arrays must each be 1-dimensional\u001b[39m\u001b[33m\"\u001b[39m)\n\u001b[32m    666\u001b[39m \u001b[38;5;28;01mif\u001b[39;00m \u001b[38;5;129;01mnot\u001b[39;00m indexes \u001b[38;5;129;01mand\u001b[39;00m \u001b[38;5;129;01mnot\u001b[39;00m raw_lengths:\n\u001b[32m--> \u001b[39m\u001b[32m667\u001b[39m     \u001b[38;5;28;01mraise\u001b[39;00m \u001b[38;5;167;01mValueError\u001b[39;00m(\u001b[33m\"\u001b[39m\u001b[33mIf using all scalar values, you must pass an index\u001b[39m\u001b[33m\"\u001b[39m)\n\u001b[32m    669\u001b[39m \u001b[38;5;28;01mif\u001b[39;00m have_series:\n\u001b[32m    670\u001b[39m     index = union_indexes(indexes)\n",
      "\u001b[31mValueError\u001b[39m: If using all scalar values, you must pass an index"
     ]
    }
   ],
   "source": [
    "pd.DataFrame(horse)"
   ]
  },
  {
   "cell_type": "code",
   "execution_count": null,
   "id": "3f31ce03",
   "metadata": {},
   "outputs": [],
   "source": []
  },
  {
   "cell_type": "code",
   "execution_count": null,
   "id": "2e1ab3fa",
   "metadata": {},
   "outputs": [],
   "source": []
  },
  {
   "cell_type": "code",
   "execution_count": null,
   "id": "8fc02107",
   "metadata": {},
   "outputs": [],
   "source": []
  },
  {
   "cell_type": "code",
   "execution_count": null,
   "id": "76646d10",
   "metadata": {},
   "outputs": [],
   "source": []
  }
 ],
 "metadata": {
  "kernelspec": {
   "display_name": ".venv",
   "language": "python",
   "name": "python3"
  },
  "language_info": {
   "codemirror_mode": {
    "name": "ipython",
    "version": 3
   },
   "file_extension": ".py",
   "mimetype": "text/x-python",
   "name": "python",
   "nbconvert_exporter": "python",
   "pygments_lexer": "ipython3",
   "version": "3.12.3"
  }
 },
 "nbformat": 4,
 "nbformat_minor": 5
}
