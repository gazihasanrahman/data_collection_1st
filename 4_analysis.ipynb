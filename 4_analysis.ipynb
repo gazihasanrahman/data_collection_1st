{
 "cells": [
  {
   "cell_type": "code",
   "execution_count": 1,
   "id": "22e58d4c",
   "metadata": {},
   "outputs": [],
   "source": [
    "import json\n",
    "import glob\n",
    "import pandas as pd\n",
    "from pydantic import BaseModel\n",
    "from datetime import datetime, timedelta, date\n",
    "from dateutil.parser import parse\n",
    "\n"
   ]
  },
  {
   "cell_type": "code",
   "execution_count": null,
   "id": "c243a772",
   "metadata": {},
   "outputs": [],
   "source": [
    "# statusHistory\n",
    "{\n",
    "    \"status\": \"Result\",\n",
    "    \"timestamp\": \"2025-07-09T22:18:44+00:00\"\n",
    "}\n",
    "class StatusHistory(BaseModel):\n",
    "    status: str\n",
    "    timestamp: datetime\n",
    "\n"
   ]
  },
  {
   "cell_type": "code",
   "execution_count": null,
   "id": "0f0b808c",
   "metadata": {},
   "outputs": [],
   "source": [
    "# \"showPrices\": [\n",
    "# {\n",
    "#     \"timestamp\": \"2025-07-09T21:37:06+00:00\",\n",
    "#     \"numerator\": \"10\",\n",
    "#     \"denominator\": \"1\",\n",
    "#     \"market\": \"1\"\n",
    "# },\n",
    "class ShowPrices(BaseModel):\n",
    "    timestamp: datetime\n",
    "    numerator: str\n",
    "    denominator: str\n",
    "    market: str\n"
   ]
  },
  {
   "cell_type": "code",
   "execution_count": null,
   "id": "4e4953b6",
   "metadata": {},
   "outputs": [],
   "source": [
    "# \"jockey\": {\n",
    "#     \"id\": \"133410\",\n",
    "#     \"name\": \"Samuel E. Bermudez\",\n",
    "#     \"oldJockeyID\": \"\",\n",
    "#     \"oldJockeyName\": \"\"\n",
    "# },\n",
    "class Jockey(BaseModel):\n",
    "    id: str\n",
    "    name: str\n",
    "    oldJockeyID: str\n",
    "    oldJockeyName: str\n",
    "\n",
    "\n",
    "\n"
   ]
  },
  {
   "cell_type": "code",
   "execution_count": null,
   "id": "98033a60",
   "metadata": {},
   "outputs": [],
   "source": [
    "# \"weight\": {\n",
    "#     \"value\": \"120\",\n",
    "#     \"overweight\": null,\n",
    "#     \"unit\": \"lbs\"\n",
    "# },\n",
    "\n",
    "class Weight(BaseModel):\n",
    "    value: str\n",
    "    overweight: str\n",
    "    unit: str\n",
    "\n",
    "\n",
    "\n",
    "\n"
   ]
  },
  {
   "cell_type": "code",
   "execution_count": null,
   "id": "fc8519ed",
   "metadata": {},
   "outputs": [],
   "source": []
  },
  {
   "cell_type": "code",
   "execution_count": null,
   "id": "1736f3f0",
   "metadata": {},
   "outputs": [],
   "source": []
  },
  {
   "cell_type": "code",
   "execution_count": null,
   "id": "bbb8ce37",
   "metadata": {},
   "outputs": [],
   "source": []
  },
  {
   "cell_type": "code",
   "execution_count": null,
   "id": "903fdbaf",
   "metadata": {},
   "outputs": [],
   "source": []
  },
  {
   "cell_type": "code",
   "execution_count": null,
   "id": "65bed53b",
   "metadata": {},
   "outputs": [],
   "source": []
  }
 ],
 "metadata": {
  "kernelspec": {
   "display_name": ".venv",
   "language": "python",
   "name": "python3"
  },
  "language_info": {
   "codemirror_mode": {
    "name": "ipython",
    "version": 3
   },
   "file_extension": ".py",
   "mimetype": "text/x-python",
   "name": "python",
   "nbconvert_exporter": "python",
   "pygments_lexer": "ipython3",
   "version": "3.12.3"
  }
 },
 "nbformat": 4,
 "nbformat_minor": 5
}
